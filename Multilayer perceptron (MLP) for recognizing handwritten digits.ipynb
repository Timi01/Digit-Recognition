{
 "cells": [
  {
   "cell_type": "markdown",
   "metadata": {},
   "source": [
    "# Multilayer perceptron (MLP) for recognizing handwritten digits"
   ]
  },
  {
   "cell_type": "markdown",
   "metadata": {},
   "source": [
    "Historically,\n",
    "perceptron was the name given to a model having one single linear layer, and as a consequence, if it\n",
    "has multiple layers, you would call it multilayer perceptron (MLP)."
   ]
  },
  {
   "cell_type": "markdown",
   "metadata": {},
   "source": [
    "MNIST database of handwritten digits made up of a training set of 60,000 examples and a test set of 10,000 examples.\n",
    "The training examples are annotated by humans with the correct answer. Each MNIST image is in gray scale, and it consists of 28 x 28 pixels."
   ]
  },
  {
   "cell_type": "code",
   "execution_count": 1,
   "metadata": {},
   "outputs": [
    {
     "name": "stderr",
     "output_type": "stream",
     "text": [
      "Using TensorFlow backend.\n"
     ]
    }
   ],
   "source": [
    "from __future__ import print_function\n",
    "import numpy as np\n",
    "\n",
    "from keras.datasets import mnist\n",
    "from keras.models import Sequential\n",
    "from keras.layers.core import Dense, Dropout, Activation\n",
    "from keras.optimizers import Adam\n",
    "from keras.utils import np_utils\n",
    "\n",
    "import matplotlib.pyplot as plt\n",
    "%matplotlib inline\n",
    "\n",
    "np.random.seed(1) # for reproducibility"
   ]
  },
  {
   "cell_type": "code",
   "execution_count": 2,
   "metadata": {},
   "outputs": [],
   "source": [
    "# load data\n",
    "(X_train, y_train), (X_test, y_test) = mnist.load_data()"
   ]
  },
  {
   "cell_type": "code",
   "execution_count": 3,
   "metadata": {},
   "outputs": [
    {
     "data": {
      "image/png": "[encoded data removed]",
      "text/plain": [
       "<Figure size 432x288 with 9 Axes>"
      ]
     },
     "metadata": {},
     "output_type": "display_data"
    }
   ],
   "source": [
    "# create a grid of 3x3 images \n",
    "for i in range(0, 9): \n",
    "    plt.subplot(330 + 1 + i) \n",
    "    plt.imshow(X_train[i], cmap=plt.get_cmap('gray'))\n",
    "    \n",
    "plt.tight_layout()"
   ]
  },
  {
   "cell_type": "code",
   "execution_count": 4,
   "metadata": {},
   "outputs": [
    {
     "name": "stdout",
     "output_type": "stream",
     "text": [
      "Shape of X_train: (60000, 28, 28)\n",
      "Shape of y_train: (60000,)\n",
      "Shape of X_test: (10000, 28, 28)\n",
      "Shape of y_test: (60000,)\n"
     ]
    }
   ],
   "source": [
    "# print the shapes\n",
    "\n",
    "print('Shape of X_train: '+str(X_train.shape))\n",
    "print('Shape of y_train: '+str(y_train.shape))\n",
    "print('Shape of X_test: '+str(X_test.shape))\n",
    "print('Shape of y_test: '+str(y_train.shape))"
   ]
  },
  {
   "cell_type": "code",
   "execution_count": 5,
   "metadata": {},
   "outputs": [
    {
     "name": "stdout",
     "output_type": "stream",
     "text": [
      "7\n"
     ]
    },
    {
     "data": {
      "image/png": "[encoded data removed]",
      "text/plain": [
       "<Figure size 432x288 with 1 Axes>"
      ]
     },
     "metadata": {},
     "output_type": "display_data"
    }
   ],
   "source": [
    "index = 15\n",
    "print(y_train[index])\n",
    "plt.imshow(X_train[index], cmap = 'gray');"
   ]
  },
  {
   "cell_type": "code",
   "execution_count": 6,
   "metadata": {},
   "outputs": [],
   "source": [
    "# network and training\n",
    "NB_EPOCH = 20\n",
    "BATCH_SIZE = 256\n",
    "VERBOSE = 1\n",
    "\n",
    "NB_CLASSES = 10 # number of outputs = number of digits\n",
    "OPTIMIZER = Adam(lr=0.0008) # optimizer\n",
    "N_HIDDEN = 128\n",
    "VALIDATION_SPLIT=0.2 # how much TRAIN is reserved for VALIDATION\n",
    "DROPOUT = 0.2"
   ]
  },
  {
   "cell_type": "code",
   "execution_count": 7,
   "metadata": {},
   "outputs": [],
   "source": [
    "#X_train is 60000 rows of 28x28 values --> reshaped in 60000 x 784\n",
    "X_train = X_train.reshape(60000, 784)\n",
    "X_test = X_test.reshape(10000, 784)\n",
    "\n",
    "X_train = X_train.astype('float32')\n",
    "X_train = X_train.astype('float32')\n",
    "X_test = X_test.astype('float32')"
   ]
  },
  {
   "cell_type": "code",
   "execution_count": 8,
   "metadata": {},
   "outputs": [
    {
     "name": "stdout",
     "output_type": "stream",
     "text": [
      "60000 train samples\n",
      "10000 test samples\n"
     ]
    }
   ],
   "source": [
    "# normalize\n",
    "X_train /= 255\n",
    "X_test /= 255\n",
    "print(X_train.shape[0], 'train samples')\n",
    "print(X_test.shape[0], 'test samples')"
   ]
  },
  {
   "cell_type": "markdown",
   "metadata": {},
   "source": [
    "One-hot encoding — OHE: In many applications, it is convenient to transform categorical (non-numerical) features into numerical variables. For instance, the categorical feature digit with the value d in [0-9] can be encoded into a binary vector with 10 positions, which always has 0 value, except the d-th position where a 1 is present. This type of representation is called one-hot encoding (OHE) and is very common in data mining when the learning algorithm is specialized for dealing with numerical functions."
   ]
  },
  {
   "cell_type": "code",
   "execution_count": 9,
   "metadata": {},
   "outputs": [],
   "source": [
    "# convert class vectors to binary class matrices (one hot encode outputs)\n",
    "Y_train = np_utils.to_categorical(y_train, NB_CLASSES)\n",
    "Y_test = np_utils.to_categorical(y_test, NB_CLASSES)"
   ]
  },
  {
   "cell_type": "code",
   "execution_count": 10,
   "metadata": {},
   "outputs": [
    {
     "name": "stdout",
     "output_type": "stream",
     "text": [
      "_________________________________________________________________\n",
      "Layer (type)                 Output Shape              Param #   \n",
      "=================================================================\n",
      "dense_1 (Dense)              (None, 512)               401920    \n",
      "_________________________________________________________________\n",
      "activation_1 (Activation)    (None, 512)               0         \n",
      "_________________________________________________________________\n",
      "dropout_1 (Dropout)          (None, 512)               0         \n",
      "_________________________________________________________________\n",
      "dense_2 (Dense)              (None, 256)               131328    \n",
      "_________________________________________________________________\n",
      "activation_2 (Activation)    (None, 256)               0         \n",
      "_________________________________________________________________\n",
      "dropout_2 (Dropout)          (None, 256)               0         \n",
      "_________________________________________________________________\n",
      "dense_3 (Dense)              (None, 10)                2570      \n",
      "_________________________________________________________________\n",
      "activation_3 (Activation)    (None, 10)                0         \n",
      "=================================================================\n",
      "Total params: 535,818\n",
      "Trainable params: 535,818\n",
      "Non-trainable params: 0\n",
      "_________________________________________________________________\n"
     ]
    }
   ],
   "source": [
    "# M_HIDDEN hidden layers 10 outputs\n",
    "\n",
    "model = Sequential()\n",
    "\n",
    "model.add(Dense(512, input_shape=(784,)))\n",
    "model.add(Activation('relu'))\n",
    "model.add(Dropout(DROPOUT))\n",
    "\n",
    "model.add(Dense(256))\n",
    "model.add(Activation('relu'))\n",
    "model.add(Dropout(DROPOUT))\n",
    "\n",
    "model.add(Dense(NB_CLASSES))\n",
    "model.add(Activation('softmax'))\n",
    "model.summary()"
   ]
  },
  {
   "cell_type": "code",
   "execution_count": 11,
   "metadata": {},
   "outputs": [
    {
     "name": "stdout",
     "output_type": "stream",
     "text": [
      "Train on 48000 samples, validate on 12000 samples\n",
      "Epoch 1/20\n",
      "48000/48000 [==============================] - 8s 170us/step - loss: 0.0622 - acc: 0.9785 - val_loss: 0.0259 - val_acc: 0.9913\n",
      "Epoch 2/20\n",
      "48000/48000 [==============================] - 8s 159us/step - loss: 0.0260 - acc: 0.9914 - val_loss: 0.0190 - val_acc: 0.9940\n",
      "Epoch 3/20\n",
      "48000/48000 [==============================] - 7s 151us/step - loss: 0.0186 - acc: 0.9938 - val_loss: 0.0167 - val_acc: 0.9942\n",
      "Epoch 4/20\n",
      "48000/48000 [==============================] - 7s 154us/step - loss: 0.0143 - acc: 0.9951 - val_loss: 0.0147 - val_acc: 0.9949\n",
      "Epoch 5/20\n",
      "48000/48000 [==============================] - 8s 161us/step - loss: 0.0111 - acc: 0.9963 - val_loss: 0.0134 - val_acc: 0.9955\n",
      "Epoch 6/20\n",
      "48000/48000 [==============================] - 7s 149us/step - loss: 0.0089 - acc: 0.9970 - val_loss: 0.0136 - val_acc: 0.9955\n",
      "Epoch 7/20\n",
      "48000/48000 [==============================] - 8s 162us/step - loss: 0.0077 - acc: 0.9974 - val_loss: 0.0125 - val_acc: 0.9960\n",
      "Epoch 8/20\n",
      "48000/48000 [==============================] - 8s 165us/step - loss: 0.0067 - acc: 0.9977 - val_loss: 0.0126 - val_acc: 0.9960\n",
      "Epoch 9/20\n",
      "48000/48000 [==============================] - 8s 159us/step - loss: 0.0059 - acc: 0.9981 - val_loss: 0.0134 - val_acc: 0.9957\n",
      "Epoch 10/20\n",
      "48000/48000 [==============================] - 9s 182us/step - loss: 0.0048 - acc: 0.9984 - val_loss: 0.0128 - val_acc: 0.9961\n",
      "Epoch 11/20\n",
      "48000/48000 [==============================] - 7s 156us/step - loss: 0.0038 - acc: 0.9987 - val_loss: 0.0130 - val_acc: 0.9963\n",
      "Epoch 12/20\n",
      "48000/48000 [==============================] - 7s 153us/step - loss: 0.0039 - acc: 0.9987 - val_loss: 0.0132 - val_acc: 0.9959\n",
      "Epoch 13/20\n",
      "48000/48000 [==============================] - 7s 155us/step - loss: 0.0036 - acc: 0.9989 - val_loss: 0.0143 - val_acc: 0.9961\n",
      "Epoch 14/20\n",
      "48000/48000 [==============================] - 7s 154us/step - loss: 0.0032 - acc: 0.9989 - val_loss: 0.0139 - val_acc: 0.9963\n",
      "Epoch 15/20\n",
      "48000/48000 [==============================] - 7s 153us/step - loss: 0.0032 - acc: 0.9989 - val_loss: 0.0142 - val_acc: 0.9960\n",
      "Epoch 16/20\n",
      "48000/48000 [==============================] - 7s 154us/step - loss: 0.0031 - acc: 0.9989 - val_loss: 0.0134 - val_acc: 0.9963\n",
      "Epoch 17/20\n",
      "48000/48000 [==============================] - 7s 155us/step - loss: 0.0024 - acc: 0.9992 - val_loss: 0.0135 - val_acc: 0.9963\n",
      "Epoch 18/20\n",
      "48000/48000 [==============================] - 8s 158us/step - loss: 0.0021 - acc: 0.9993 - val_loss: 0.0157 - val_acc: 0.9960\n",
      "Epoch 19/20\n",
      "48000/48000 [==============================] - 7s 155us/step - loss: 0.0023 - acc: 0.9993 - val_loss: 0.0148 - val_acc: 0.9960\n",
      "Epoch 20/20\n",
      "48000/48000 [==============================] - 8s 162us/step - loss: 0.0024 - acc: 0.9992 - val_loss: 0.0156 - val_acc: 0.9963\n",
      "10000/10000 [==============================] - 1s 112us/step\n"
     ]
    }
   ],
   "source": [
    "model.compile(loss='binary_crossentropy', optimizer=OPTIMIZER, metrics=['accuracy'])\n",
    "\n",
    "history = model.fit(X_train, Y_train, batch_size=BATCH_SIZE, epochs=NB_EPOCH, verbose=VERBOSE, validation_split=VALIDATION_SPLIT)\n",
    "\n",
    "score = model.evaluate(X_test, Y_test, verbose=1)"
   ]
  },
  {
   "cell_type": "code",
   "execution_count": 12,
   "metadata": {},
   "outputs": [
    {
     "name": "stdout",
     "output_type": "stream",
     "text": [
      "Test score: 1.38175946134\n",
      "Test accuracy: 99.6399995995\n"
     ]
    }
   ],
   "source": [
    "print(\"Test score:\", score[0]*100)\n",
    "print('Test accuracy:', score[1]*100)"
   ]
  },
  {
   "cell_type": "code",
   "execution_count": 13,
   "metadata": {},
   "outputs": [
    {
     "name": "stdout",
     "output_type": "stream",
     "text": [
      "dict_keys(['val_loss', 'val_acc', 'loss', 'acc'])\n",
      "10000/10000 [==============================] - 1s 88us/step\n"
     ]
    },
    {
     "data": {
      "image/png": "[encoded data removed]",
      "text/plain": [
       "<Figure size 432x288 with 1 Axes>"
      ]
     },
     "metadata": {},
     "output_type": "display_data"
    },
    {
     "data": {
      "image/png": "[encoded data removed]",
      "text/plain": [
       "<Figure size 432x288 with 1 Axes>"
      ]
     },
     "metadata": {},
     "output_type": "display_data"
    },
    {
     "name": "stdout",
     "output_type": "stream",
     "text": [
      "[Test score - 0.013817594613415758\n",
      "[Test accuracy - 0.9963999959945679\n"
     ]
    }
   ],
   "source": [
    "# print the history keys\n",
    "print (history.history.keys())\n",
    "\n",
    "# evaluate the model\n",
    "scores = model.evaluate(X_test, Y_test, verbose=1)\n",
    "\n",
    "# history plot for accuracy\n",
    "plt.plot(history.history[\"acc\"])\n",
    "plt.plot(history.history[\"val_acc\"])\n",
    "plt.title(\"Model Accuracy\")\n",
    "plt.xlabel(\"Epoch\")\n",
    "plt.ylabel(\"Accuracy\")\n",
    "plt.legend([\"train\", \"test\"], loc=\"upper left\")\n",
    "plt.show()\n",
    "\n",
    "# history plot for accuracy\n",
    "plt.plot(history.history[\"loss\"])\n",
    "plt.plot(history.history[\"val_loss\"])\n",
    "plt.title(\"Model Loss\")\n",
    "plt.xlabel(\"Epoch\")\n",
    "plt.ylabel(\"Loss\")\n",
    "plt.legend([\"train\", \"test\"], loc=\"upper left\")\n",
    "plt.show()\n",
    "\n",
    "# print the results\n",
    "print (\"[Test score - {}\".format(scores[0]))\n",
    "print (\"[Test accuracy - {}\".format(scores[1]))\n"
   ]
  }
 ],
 "metadata": {
  "kernelspec": {
   "display_name": "Python 3",
   "language": "python",
   "name": "python3"
  },
  "language_info": {
   "codemirror_mode": {
    "name": "ipython",
    "version": 3
   },
   "file_extension": ".py",
   "mimetype": "text/x-python",
   "name": "python",
   "nbconvert_exporter": "python",
   "pygments_lexer": "ipython3",
   "version": "3.6.6"
  }
 },
 "nbformat": 4,
 "nbformat_minor": 2
}
