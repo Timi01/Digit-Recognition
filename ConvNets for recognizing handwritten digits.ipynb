{
 "cells": [
  {
   "cell_type": "markdown",
   "metadata": {},
   "source": [
    "# ConvNets for recognizing handwritten digits"
   ]
  },
  {
   "cell_type": "markdown",
   "metadata": {},
   "source": [
    "CNNs apply convolution and pooling operations in two dimensions for images along the (height x width) dimensions. \n",
    "For images, sliding the filter over input volume produces a map that gives\n",
    "the responses of the filter for each spatial position. In other words, a ConvNet has multiple filters\n",
    "stacked together which learn to recognize specific visual features independently of the location in the\n",
    "image. Those visual features are simple in the initial layers of the network, and then more and more\n",
    "sophisticated deeper in the network."
   ]
  },
  {
   "cell_type": "markdown",
   "metadata": {},
   "source": [
    "MNIST database of handwritten digits made up of a training set of 60,000 examples and a test set of 10,000 examples.\n",
    "The training examples are annotated by humans with the correct answer. Each MNIST image is in gray scale, and it consists of 28 x 28 pixels."
   ]
  },
  {
   "cell_type": "code",
   "execution_count": 35,
   "metadata": {},
   "outputs": [],
   "source": [
    "import numpy as np\n",
    "from keras.datasets import mnist\n",
    "from keras.models import Sequential\n",
    "from keras.layers import Dense, Activation, BatchNormalization, Flatten, Conv2D, MaxPooling2D, Dropout\n",
    "from keras.optimizers import Adam\n",
    "from keras.utils import layer_utils, plot_model\n",
    "from keras.preprocessing import image\n",
    "from keras import initializers\n",
    "from keras import regularizers\n",
    "from keras.utils import np_utils\n",
    "from PIL import Image\n",
    "import os\n",
    "import matplotlib.pyplot as plt"
   ]
  },
  {
   "cell_type": "code",
   "execution_count": 36,
   "metadata": {},
   "outputs": [
    {
     "name": "stdout",
     "output_type": "stream",
     "text": [
      "number of training examples = 60000\n",
      "number of test examples = 10000\n",
      "X_train shape (60000, 28, 28)\n",
      "y_train shape (60000,)\n",
      "X_test shape (10000, 28, 28)\n",
      "y_test shape (10000,)\n"
     ]
    }
   ],
   "source": [
    "# The MNIST data is split between 60,000 28 x 28 pixel training images and 10,000 28 x 28 pixel images\n",
    "(X_train, y_train), (X_test, y_test) = mnist.load_data()\n",
    "\n",
    "print(\"number of training examples = \" + str(X_train.shape[0]))\n",
    "print(\"number of test examples = \" + str(X_test.shape[0]))\n",
    "print(\"X_train shape\", X_train.shape)\n",
    "print(\"y_train shape\", y_train.shape)\n",
    "print(\"X_test shape\", X_test.shape)\n",
    "print(\"y_test shape\", y_test.shape)"
   ]
  },
  {
   "cell_type": "code",
   "execution_count": 37,
   "metadata": {},
   "outputs": [
    {
     "name": "stdout",
     "output_type": "stream",
     "text": [
      "X_train shape (60000, 28, 28, 1)\n",
      "X_test shape (10000, 28, 28, 1)\n",
      "y_train shape (60000, 1)\n",
      "y_test shape (10000, 1)\n"
     ]
    }
   ],
   "source": [
    "X_train = X_train[:, :, : , np.newaxis]\n",
    "X_test = X_test[:, :, :, np.newaxis]\n",
    "\n",
    "print(\"X_train shape\", X_train.shape)\n",
    "print(\"X_test shape\", X_test.shape)\n",
    "\n",
    "y_train = y_train.reshape(-1,1)\n",
    "y_test = y_test.reshape(-1,1)\n",
    "\n",
    "print(\"y_train shape\", y_train.shape)\n",
    "print(\"y_test shape\", y_test.shape)"
   ]
  },
  {
   "cell_type": "code",
   "execution_count": 38,
   "metadata": {},
   "outputs": [],
   "source": [
    "# change integers to 32-bit floating point numbers\n",
    "X_train = X_train.astype('float32')   \n",
    "X_test = X_test.astype('float32')\n",
    "\n",
    "# normalize each value for each pixel for the entire vector for each input\n",
    "X_train = X_train/255                        \n",
    "X_test = X_test/255"
   ]
  },
  {
   "cell_type": "code",
   "execution_count": 39,
   "metadata": {},
   "outputs": [],
   "source": [
    "# The Sequential model is a linear stack of layers and is very common.\n",
    "\n",
    "model = Sequential()\n",
    "\n",
    "# Convolution Layer 1\n",
    "model.add(Conv2D(32, kernel_size=(3,3), input_shape=(28,28,1)))\n",
    "model.add(BatchNormalization())\n",
    "model.add(Activation('relu'))\n",
    "\n",
    "# Poolinig Layer 1\n",
    "model.add(MaxPooling2D(pool_size=(2, 2), strides=(2, 2)))\n",
    "\n",
    "# Convolution Layer 2\n",
    "model.add(Conv2D(64,(3, 3)))                         \n",
    "model.add(BatchNormalization())              \n",
    "model.add(Activation('relu'))\n",
    "\n",
    "# Pooling Layer 2\n",
    "model.add(MaxPooling2D(pool_size=(2, 2), strides=(1, 1)))\n",
    "\n",
    "# FC Layer\n",
    "model.add(Flatten()) # Flattening the 2D arrays for fully connected layers\n",
    "model.add(Dense(256))\n",
    "model.add(BatchNormalization())\n",
    "model.add(Activation('relu'))\n",
    "keep_prob = 0.1\n",
    "model.add(Dropout(keep_prob))\n",
    "model.add(Dense(10,activation='softmax'))"
   ]
  },
  {
   "cell_type": "code",
   "execution_count": 40,
   "metadata": {},
   "outputs": [
    {
     "name": "stdout",
     "output_type": "stream",
     "text": [
      "_________________________________________________________________\n",
      "Layer (type)                 Output Shape              Param #   \n",
      "=================================================================\n",
      "conv2d_7 (Conv2D)            (None, 26, 26, 32)        320       \n",
      "_________________________________________________________________\n",
      "batch_normalization_10 (Batc (None, 26, 26, 32)        128       \n",
      "_________________________________________________________________\n",
      "activation_10 (Activation)   (None, 26, 26, 32)        0         \n",
      "_________________________________________________________________\n",
      "max_pooling2d_7 (MaxPooling2 (None, 13, 13, 32)        0         \n",
      "_________________________________________________________________\n",
      "conv2d_8 (Conv2D)            (None, 11, 11, 64)        18496     \n",
      "_________________________________________________________________\n",
      "batch_normalization_11 (Batc (None, 11, 11, 64)        256       \n",
      "_________________________________________________________________\n",
      "activation_11 (Activation)   (None, 11, 11, 64)        0         \n",
      "_________________________________________________________________\n",
      "max_pooling2d_8 (MaxPooling2 (None, 10, 10, 64)        0         \n",
      "_________________________________________________________________\n",
      "flatten_4 (Flatten)          (None, 6400)              0         \n",
      "_________________________________________________________________\n",
      "dense_7 (Dense)              (None, 256)               1638656   \n",
      "_________________________________________________________________\n",
      "batch_normalization_12 (Batc (None, 256)               1024      \n",
      "_________________________________________________________________\n",
      "activation_12 (Activation)   (None, 256)               0         \n",
      "_________________________________________________________________\n",
      "dropout_4 (Dropout)          (None, 256)               0         \n",
      "_________________________________________________________________\n",
      "dense_8 (Dense)              (None, 10)                2570      \n",
      "=================================================================\n",
      "Total params: 1,661,450\n",
      "Trainable params: 1,660,746\n",
      "Non-trainable params: 704\n",
      "_________________________________________________________________\n"
     ]
    }
   ],
   "source": [
    "model.summary()"
   ]
  },
  {
   "cell_type": "code",
   "execution_count": 41,
   "metadata": {},
   "outputs": [],
   "source": [
    "# network and training\n",
    "NB_EPOCH = 20\n",
    "BATCH_SIZE = 256\n",
    "VERBOSE = 1\n",
    "OPTIMIZER = Adam()\n",
    "VALIDATION_SPLIT= 0.2\n",
    "IMG_ROWS, IMG_COLS = 28, 28 # input image dimensions\n",
    "NB_CLASSES = 10 # number of outputs = number of digits\n",
    "INPUT_SHAPE = (IMG_ROWS, IMG_COLS,1)"
   ]
  },
  {
   "cell_type": "code",
   "execution_count": 42,
   "metadata": {},
   "outputs": [],
   "source": [
    "# convert class vectors to binary class matrices\n",
    "y_train = np_utils.to_categorical(y_train, NB_CLASSES)\n",
    "y_test = np_utils.to_categorical(y_test, NB_CLASSES)"
   ]
  },
  {
   "cell_type": "code",
   "execution_count": 43,
   "metadata": {},
   "outputs": [],
   "source": [
    "model.compile(loss=\"binary_crossentropy\", optimizer=OPTIMIZER, metrics=[\"accuracy\"])"
   ]
  },
  {
   "cell_type": "code",
   "execution_count": 44,
   "metadata": {},
   "outputs": [
    {
     "name": "stdout",
     "output_type": "stream",
     "text": [
      "Train on 48000 samples, validate on 12000 samples\n",
      "Epoch 1/20\n",
      "48000/48000 [==============================] - 283s 6ms/step - loss: 0.0182 - acc: 0.9943 - val_loss: 0.0092 - val_acc: 0.9972\n",
      "Epoch 2/20\n",
      "48000/48000 [==============================] - 276s 6ms/step - loss: 0.0057 - acc: 0.9982 - val_loss: 0.0099 - val_acc: 0.9965\n",
      "Epoch 3/20\n",
      "48000/48000 [==============================] - 275s 6ms/step - loss: 0.0036 - acc: 0.9989 - val_loss: 0.0131 - val_acc: 0.9956\n",
      "Epoch 4/20\n",
      "48000/48000 [==============================] - 279s 6ms/step - loss: 0.0022 - acc: 0.9994 - val_loss: 0.0073 - val_acc: 0.9973\n",
      "Epoch 5/20\n",
      "48000/48000 [==============================] - 276s 6ms/step - loss: 0.0013 - acc: 0.9997 - val_loss: 0.0051 - val_acc: 0.9984\n",
      "Epoch 6/20\n",
      "48000/48000 [==============================] - 276s 6ms/step - loss: 7.4967e-04 - acc: 0.9998 - val_loss: 0.0099 - val_acc: 0.9968\n",
      "Epoch 7/20\n",
      "48000/48000 [==============================] - 275s 6ms/step - loss: 8.8855e-04 - acc: 0.9998 - val_loss: 0.0074 - val_acc: 0.9974\n",
      "Epoch 8/20\n",
      "48000/48000 [==============================] - 276s 6ms/step - loss: 8.9408e-04 - acc: 0.9998 - val_loss: 0.0073 - val_acc: 0.9975\n",
      "Epoch 9/20\n",
      "48000/48000 [==============================] - 277s 6ms/step - loss: 8.4747e-04 - acc: 0.9998 - val_loss: 0.0090 - val_acc: 0.9973\n",
      "Epoch 10/20\n",
      "48000/48000 [==============================] - 276s 6ms/step - loss: 6.5908e-04 - acc: 0.9998 - val_loss: 0.0059 - val_acc: 0.9981\n",
      "Epoch 11/20\n",
      "48000/48000 [==============================] - 275s 6ms/step - loss: 4.2213e-04 - acc: 0.9999 - val_loss: 0.0097 - val_acc: 0.9970\n",
      "Epoch 12/20\n",
      "48000/48000 [==============================] - 278s 6ms/step - loss: 2.6808e-04 - acc: 1.0000 - val_loss: 0.0049 - val_acc: 0.9987\n",
      "Epoch 13/20\n",
      "48000/48000 [==============================] - 280s 6ms/step - loss: 1.7132e-04 - acc: 1.0000 - val_loss: 0.0073 - val_acc: 0.9980\n",
      "Epoch 14/20\n",
      "48000/48000 [==============================] - 275s 6ms/step - loss: 9.7561e-05 - acc: 1.0000 - val_loss: 0.0055 - val_acc: 0.9984\n",
      "Epoch 15/20\n",
      "48000/48000 [==============================] - 275s 6ms/step - loss: 4.9370e-05 - acc: 1.0000 - val_loss: 0.0048 - val_acc: 0.9987\n",
      "Epoch 16/20\n",
      "48000/48000 [==============================] - 273s 6ms/step - loss: 3.1291e-05 - acc: 1.0000 - val_loss: 0.0048 - val_acc: 0.9988\n",
      "Epoch 17/20\n",
      "48000/48000 [==============================] - 274s 6ms/step - loss: 2.0606e-05 - acc: 1.0000 - val_loss: 0.0048 - val_acc: 0.9988\n",
      "Epoch 18/20\n",
      "48000/48000 [==============================] - 272s 6ms/step - loss: 1.5176e-05 - acc: 1.0000 - val_loss: 0.0048 - val_acc: 0.9989\n",
      "Epoch 19/20\n",
      "48000/48000 [==============================] - 272s 6ms/step - loss: 1.7039e-05 - acc: 1.0000 - val_loss: 0.0050 - val_acc: 0.9988\n",
      "Epoch 20/20\n",
      "48000/48000 [==============================] - 273s 6ms/step - loss: 1.1662e-05 - acc: 1.0000 - val_loss: 0.0049 - val_acc: 0.9989\n"
     ]
    }
   ],
   "source": [
    "history = model.fit(X_train, y_train, batch_size=BATCH_SIZE, epochs=NB_EPOCH,\n",
    "                    verbose=VERBOSE, validation_split=VALIDATION_SPLIT)"
   ]
  },
  {
   "cell_type": "code",
   "execution_count": 45,
   "metadata": {},
   "outputs": [
    {
     "name": "stdout",
     "output_type": "stream",
     "text": [
      "10000/10000 [==============================] - 12s 1ms/step\n",
      "Test score: 0.004819888142101331\n",
      "Test accuracy: 0.9986099969863892\n"
     ]
    }
   ],
   "source": [
    "score = model.evaluate(X_test, y_test, verbose=VERBOSE)\n",
    "print(\"Test score:\", score[0])\n",
    "print('Test accuracy:', score[1])"
   ]
  },
  {
   "cell_type": "code",
   "execution_count": 46,
   "metadata": {},
   "outputs": [
    {
     "name": "stdout",
     "output_type": "stream",
     "text": [
      "dict_keys(['val_loss', 'val_acc', 'loss', 'acc'])\n",
      "10000/10000 [==============================] - 12s 1ms/step\n"
     ]
    },
    {
     "data": {
      "image/png": "[encoded data removed]",
      "text/plain": [
       "<Figure size 432x288 with 1 Axes>"
      ]
     },
     "metadata": {
      "needs_background": "light"
     },
     "output_type": "display_data"
    },
    {
     "data": {
      "image/png": "[encoded data removed]",
      "text/plain": [
       "<Figure size 432x288 with 1 Axes>"
      ]
     },
     "metadata": {
      "needs_background": "light"
     },
     "output_type": "display_data"
    },
    {
     "name": "stdout",
     "output_type": "stream",
     "text": [
      "[Test score - 0.004819888142101331\n",
      "[Test accuracy - 0.9986099969863892\n"
     ]
    }
   ],
   "source": [
    "# print the history keys\n",
    "print (history.history.keys())\n",
    "\n",
    "# evaluate the model\n",
    "scores = model.evaluate(X_test, y_test, verbose=1)\n",
    "\n",
    "# history plot for accuracy\n",
    "plt.plot(history.history[\"acc\"])\n",
    "plt.plot(history.history[\"val_acc\"])\n",
    "plt.title(\"Model Accuracy\")\n",
    "plt.xlabel(\"Epoch\")\n",
    "plt.ylabel(\"Accuracy\")\n",
    "plt.legend([\"train\", \"test\"], loc=\"upper left\")\n",
    "plt.show()\n",
    "\n",
    "# history plot for accuracy\n",
    "plt.plot(history.history[\"loss\"])\n",
    "plt.plot(history.history[\"val_loss\"])\n",
    "plt.title(\"Model Loss\")\n",
    "plt.xlabel(\"Epoch\")\n",
    "plt.ylabel(\"Loss\")\n",
    "plt.legend([\"train\", \"test\"], loc=\"upper left\")\n",
    "plt.show()\n",
    "\n",
    "# print the results\n",
    "print (\"[Test score - {}\".format(scores[0]))\n",
    "print (\"[Test accuracy - {}\".format(scores[1]))"
   ]
  }
 ],
 "metadata": {
  "kernelspec": {
   "display_name": "Python 3",
   "language": "python",
   "name": "python3"
  },
  "language_info": {
   "codemirror_mode": {
    "name": "ipython",
    "version": 3
   },
   "file_extension": ".py",
   "mimetype": "text/x-python",
   "name": "python",
   "nbconvert_exporter": "python",
   "pygments_lexer": "ipython3",
   "version": "3.6.6"
  }
 },
 "nbformat": 4,
 "nbformat_minor": 2
}
